{
 "cells": [
  {
   "cell_type": "markdown",
   "metadata": {},
   "source": [
    "## Scraping St. Louis Weather Data"
   ]
  },
  {
   "cell_type": "markdown",
   "metadata": {},
   "source": [
    "## Problem\n",
    "\n",
    "Data exists in a variety of forms from a variety of places.  Sometimes data will need to be pulled from APIs to get at it.  We want to simulate an IoT device by grabbing data from the weather stations in the [MesoWest API](https://synopticdata.com).  **Note:** The key being used is a sample key, you will need to use your own, if you wish to use this code."
   ]
  },
  {
   "cell_type": "markdown",
   "metadata": {},
   "source": [
    "### Solution\n",
    "\n",
    "* grab HTML at the endpoint [https://api.synopticdata.com/v2](https://api.synopticdata.com/v2)\n",
    "* parse the data for temperature and humdity\n",
    "* store the data on the IoT block chain"
   ]
  },
  {
   "cell_type": "markdown",
   "metadata": {},
   "source": [
    "### Code"
   ]
  },
  {
   "cell_type": "code",
   "execution_count": 1,
   "metadata": {
    "id": "BoNXsQ5NIeZL"
   },
   "outputs": [],
   "source": [
    "import requests\n",
    "\n",
    "key = \"e91d3a1f45ef476d8628498e9911c1f9\" # sample key from website\n",
    "r = requests.get(f\"https://api.synopticdata.com/v2/stations/latest?radius=KHOU,100&limit=25&vars=air_temp,relative_humidity&within=100&token={key}\")\n",
    "\n",
    "if r.status_code == 200:\n",
    "    data = r.json()\n",
    "else:\n",
    "    print(r.status_code)"
   ]
  },
  {
   "cell_type": "markdown",
   "metadata": {},
   "source": [
    "The `data` object contains the obeservation data, so let's loop over the response and add the data we need (temp and humidity) to the block."
   ]
  },
  {
   "cell_type": "code",
   "execution_count": 2,
   "metadata": {
    "colab": {
     "base_uri": "https://localhost:8080/"
    },
    "id": "Os2PISwqLw4D",
    "outputId": "01a9713f-5aaf-4426-bad4-3428363792cc"
   },
   "outputs": [
    {
     "name": "stdout",
     "output_type": "stream",
     "text": [
      "{'status': 'ok', 'message': 'block added', 'hash': '1d9144afc7534670347a304c21616833caad523f6a4057e5ae041f877327f871'}\n",
      "{'status': 'ok', 'message': 'block added', 'hash': 'f224449a962365c4d85c70984a2463d573cde9749321e4a1279317e77316f156'}\n",
      "{'status': 'ok', 'message': 'block added', 'hash': 'de3768b58407280a03e5e3f90e432b8b9ddbeb8acb3b476062bfed1c96f5d9ec'}\n",
      "{'status': 'ok', 'message': 'block added', 'hash': 'eb89657c4800ac7bdeaf3f3834a03968bd3bf445ddc98e546f5edd979c9da774'}\n",
      "{'status': 'ok', 'message': 'block added', 'hash': '7deaf70e9f698836e96857341b8c1bb7f8feea9404249f49250f8192ba851ab1'}\n",
      "{'status': 'ok', 'message': 'block added', 'hash': 'a9aceb512ba3c92464d8d0256b135ac82803c0ef20d266e69842a063d3d60046'}\n",
      "{'status': 'ok', 'message': 'block added', 'hash': '6e990c65d2f59c03558aac53cbce29f2af5becacf8a7200b0517ceb9aabe762a'}\n",
      "{'status': 'ok', 'message': 'block added', 'hash': 'd7a97c20246227439a4e36830e47e13a92480faac4a1a5b8916cade6342d164a'}\n",
      "{'status': 'ok', 'message': 'block added', 'hash': '0c62fbbb2df4527d9145a68acaac7bc33546c296aef29de1b22596f9b770874f'}\n",
      "{'status': 'ok', 'message': 'block added', 'hash': 'ee5b404339cf496068afa9730d9309d1dcc86818e8cf9b1aae1d4aae877fb5bf'}\n",
      "{'status': 'ok', 'message': 'block added', 'hash': '2f3f423f929e0758dec4b3cd530a0a70df92d2bd340a7246deda047b8f40aaa2'}\n",
      "{'status': 'ok', 'message': 'block added', 'hash': '33d33e26e29d1ed257300e448ab0d1cc0ad19fc8dc85b088e00be148744fcb42'}\n",
      "{'status': 'ok', 'message': 'block added', 'hash': 'c8e54bff2a058af0c1772b2b50059d3816d647f1990877100c6657aa03f39c76'}\n",
      "{'status': 'ok', 'message': 'block added', 'hash': 'eb698d8cf27a6d4fcdc0a63ac7e5cdc7599ce3f6d378fc8e15d6693c12fd7a69'}\n",
      "{'status': 'ok', 'message': 'block added', 'hash': 'eb2f6c942aef5c0d0484ba480394d4c2e14c18c911aec5ab8b26132673aea361'}\n",
      "{'status': 'ok', 'message': 'block added', 'hash': 'ed90731aa293874fc215af0a0adb5b5cea7d0a067a7e705481ff66ac9d43fca8'}\n",
      "{'status': 'ok', 'message': 'block added', 'hash': '545ead9ced7ef97e3e3102dc989686babfbc3f1207b579a0d834857968cccc62'}\n",
      "{'status': 'ok', 'message': 'block added', 'hash': '02faea52cd58d2b2f5743407d822bc60d834aa2874fd071f230ae1ac14387181'}\n",
      "{'status': 'ok', 'message': 'block added', 'hash': '0f93c93072911c05240c1c3bd324c73224da62f8df668be6e2760ac94794c560'}\n",
      "{'status': 'ok', 'message': 'block added', 'hash': 'c432243d8be1c48122a4c3463ce9e2f84f27677ec8c5410bc93a74b96978b114'}\n",
      "{'status': 'ok', 'message': 'block added', 'hash': '0e8e1af57d98c7ad97b45dbfb72e5a1e2625b58d70ce4e1132aa3af01b1e7a61'}\n",
      "{'status': 'ok', 'message': 'block added', 'hash': '49baf108d8d8259c7a98f34151a55a5fa27995b8ec6f0b472970792af4d31593'}\n",
      "{'status': 'ok', 'message': 'block added', 'hash': 'bf062e1e2c31735dce75aa784d55ea2c3ded3f4af249b98d0f802530f7a0b992'}\n",
      "{'status': 'ok', 'message': 'block added', 'hash': 'a57be8c601aa0283be3a930f79b21a659a522788beca828d97f79c018da8742e'}\n",
      "{'status': 'ok', 'message': 'block added', 'hash': '80b5e19141d11227c6d85ffeccd893fbbc5f2d0ff8edff9cea08e4e69a788fd3'}\n"
     ]
    }
   ],
   "source": [
    "for s in data['STATION']:\n",
    "    block = {}\n",
    "    block[\"stid\"] = s['STID']\n",
    "    # block['coord'] = s['LONGITUDE'] + ' W', s['LATITUDE'] + ' N'\n",
    "    # block[\"elevation\"] = s['ELEVATION']\n",
    "    block['temp'] = int(s['OBSERVATIONS']['air_temp_value_1']['value'] *(9/5) + 32)\n",
    "    block['timestamp'] = s['OBSERVATIONS']['air_temp_value_1']['date_time']\n",
    "    try:\n",
    "        block['hum'] = str(s['OBSERVATIONS']['relative_humidity_value_1']['value']) \n",
    "    except:\n",
    "        # block['hum'] = -1\n",
    "        pass \n",
    "\n",
    "    r = requests.post(\"http://34.69.195.189:5000/add\", data=block)\n",
    "    if r.status_code == 200:\n",
    "        resp = r.json()\n",
    "        print(resp)    "
   ]
  },
  {
   "cell_type": "code",
   "execution_count": null,
   "metadata": {},
   "outputs": [],
   "source": []
  }
 ],
 "metadata": {
  "colab": {
   "collapsed_sections": [],
   "name": "Test for Weather API.ipynb",
   "provenance": []
  },
  "kernelspec": {
   "display_name": "Python 3",
   "language": "python",
   "name": "python3"
  },
  "language_info": {
   "codemirror_mode": {
    "name": "ipython",
    "version": 3
   },
   "file_extension": ".py",
   "mimetype": "text/x-python",
   "name": "python",
   "nbconvert_exporter": "python",
   "pygments_lexer": "ipython3",
   "version": "3.8.11"
  }
 },
 "nbformat": 4,
 "nbformat_minor": 4
}
