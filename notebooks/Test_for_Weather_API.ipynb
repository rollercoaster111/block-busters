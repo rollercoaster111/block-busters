{
  "nbformat": 4,
  "nbformat_minor": 0,
  "metadata": {
    "colab": {
      "name": "Test for Weather API.ipynb",
      "provenance": [],
      "collapsed_sections": []
    },
    "kernelspec": {
      "name": "python3",
      "display_name": "Python 3"
    },
    "language_info": {
      "name": "python"
    }
  },
  "cells": [
    {
      "cell_type": "code",
      "metadata": {
        "id": "ZAI7X-YnIX3F"
      },
      "source": [
        "import requests"
      ],
      "execution_count": null,
      "outputs": []
    },
    {
      "cell_type": "code",
      "metadata": {
        "id": "BoNXsQ5NIeZL"
      },
      "source": [
        "r = requests.get(\"https://api.synopticdata.com/v2/stations/latest?radius=KHOU,50&limit=25&vars=air_temp,relative_humidity&within=100&token=41035fa7e66445adba71495a94352009\")\n",
        "\n",
        "if r.status_code == 200:\n",
        "  data = r.json()"
      ],
      "execution_count": 20,
      "outputs": []
    },
    {
      "cell_type": "code",
      "metadata": {
        "id": "Os2PISwqLw4D",
        "colab": {
          "base_uri": "https://localhost:8080/"
        },
        "outputId": "28d3fcc4-7c9a-4ea5-f9da-d8ae3295ffed"
      },
      "source": [
        "for s in data['STATION']:\n",
        "  block = {}\n",
        "  block[\"stid\"] = s['STID']\n",
        "  block['temp'] = s['OBSERVATIONS']['air_temp_value_1']['value']\n",
        "  block['timestamp'] = s['OBSERVATIONS']['air_temp_value_1']['date_time']\n",
        "  try:\n",
        "    block['hum'] = s['OBSERVATIONS']['relative_humidity_value_1']['value']\n",
        "  except:\n",
        "    block['hum'] = -1\n",
        "\n",
        "  print(block)"
      ],
      "execution_count": 21,
      "outputs": [
        {
          "output_type": "stream",
          "name": "stdout",
          "text": [
            "{'stid': 'KHOU', 'temp': 20.6, 'timestamp': '2021-11-06T21:53:00Z', 'hum': 38.86}\n",
            "{'stid': 'AN528', 'temp': 19.0, 'timestamp': '2021-11-06T21:00:00Z', 'hum': 50.5}\n",
            "{'stid': 'AN542', 'temp': 21.0, 'timestamp': '2021-11-06T21:00:00Z', 'hum': -1}\n",
            "{'stid': 'AN525', 'temp': 18.9, 'timestamp': '2021-11-06T21:00:00Z', 'hum': -1}\n",
            "{'stid': 'E0731', 'temp': 21.667, 'timestamp': '2021-11-06T21:46:00Z', 'hum': 52.0}\n",
            "{'stid': 'AN527', 'temp': 18.9, 'timestamp': '2021-11-06T21:00:00Z', 'hum': -1}\n",
            "{'stid': 'AN537', 'temp': 18.7, 'timestamp': '2021-11-06T21:00:00Z', 'hum': 49.0}\n",
            "{'stid': 'KEFD', 'temp': 19.0, 'timestamp': '2021-11-06T21:50:00Z', 'hum': 52.3}\n",
            "{'stid': 'UR091', 'temp': 20.556, 'timestamp': '2021-11-06T20:44:00Z', 'hum': -1}\n",
            "{'stid': 'KLVJ', 'temp': 20.0, 'timestamp': '2021-11-06T21:53:00Z', 'hum': 48.82}\n",
            "{'stid': 'KMCJ', 'temp': 19.0, 'timestamp': '2021-11-06T21:55:00Z', 'hum': 42.61}\n",
            "{'stid': 'E7643', 'temp': 20.0, 'timestamp': '2021-11-06T21:46:00Z', 'hum': 54.0}\n",
            "{'stid': 'F1563', 'temp': 20.556, 'timestamp': '2021-11-06T21:54:00Z', 'hum': 53.0}\n",
            "{'stid': 'E7304', 'temp': 18.889, 'timestamp': '2021-11-06T21:46:00Z', 'hum': 59.0}\n",
            "{'stid': 'C6132', 'temp': 18.889, 'timestamp': '2021-11-06T21:54:00Z', 'hum': 53.0}\n",
            "{'stid': 'AN538', 'temp': 19.0, 'timestamp': '2021-11-06T21:00:00Z', 'hum': 42.0}\n",
            "{'stid': 'F2972', 'temp': 20.556, 'timestamp': '2021-11-06T21:52:00Z', 'hum': 51.0}\n",
            "{'stid': 'D5612', 'temp': 20.0, 'timestamp': '2021-11-06T21:52:00Z', 'hum': 65.0}\n",
            "{'stid': 'AN536', 'temp': 19.7, 'timestamp': '2021-11-06T21:00:00Z', 'hum': -1}\n",
            "{'stid': 'F3981', 'temp': 20.0, 'timestamp': '2021-11-06T21:55:00Z', 'hum': 38.0}\n",
            "{'stid': 'D9845', 'temp': 22.222, 'timestamp': '2021-11-06T21:57:00Z', 'hum': 49.0}\n",
            "{'stid': 'AN468', 'temp': 18.9, 'timestamp': '2021-11-06T21:00:00Z', 'hum': -1}\n",
            "{'stid': 'F2265', 'temp': 18.889, 'timestamp': '2021-11-06T21:53:00Z', 'hum': 56.0}\n",
            "{'stid': 'UR113', 'temp': 18.889, 'timestamp': '2021-11-06T21:37:00Z', 'hum': -1}\n",
            "{'stid': 'D1774', 'temp': 19.444, 'timestamp': '2021-11-06T21:54:00Z', 'hum': 53.0}\n"
          ]
        }
      ]
    }
  ]
}