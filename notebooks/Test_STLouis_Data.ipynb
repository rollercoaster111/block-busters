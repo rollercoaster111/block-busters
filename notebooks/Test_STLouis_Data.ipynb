{
 "cells": [
  {
   "cell_type": "markdown",
   "metadata": {},
   "source": [
    "## Scraping St. Louis Weather Data"
   ]
  },
  {
   "cell_type": "markdown",
   "metadata": {},
   "source": [
    "## Problem\n",
    "\n",
    "Data exists in a variety of forms from a variety of places.  Sometimes data will need to be pulled from raw HTML to get at it.  We want to simulate an IoT device by grabbing data from the weather station at the St. Louis Science Center, which at the moment, we have no other way to get at this data."
   ]
  },
  {
   "cell_type": "markdown",
   "metadata": {},
   "source": [
    "### Solution\n",
    "\n",
    "* grab HTML at the end of the site: [http://agebb.missouri.edu/weather/realtime/st_louis_science_center.php](http://agebb.missouri.edu/weather/realtime/st_louis_science_center.php)\n",
    "* parse the data for temperature and humdity\n",
    "* store the data on the IoT block chain"
   ]
  },
  {
   "cell_type": "markdown",
   "metadata": {},
   "source": [
    "### Code"
   ]
  },
  {
   "cell_type": "code",
   "execution_count": 1,
   "metadata": {},
   "outputs": [],
   "source": [
    "# uncomment and run necessary libraries if not already installed\n",
    "# pip install html5lib\n",
    "# pip install bs4"
   ]
  },
  {
   "cell_type": "code",
   "execution_count": 2,
   "metadata": {},
   "outputs": [],
   "source": [
    "# importing necessary libraries\n",
    "\n",
    "import datetime\n",
    "import requests\n",
    "import csv\n",
    "import pandas as pd\n",
    "from bs4 import BeautifulSoup"
   ]
  },
  {
   "cell_type": "code",
   "execution_count": 3,
   "metadata": {},
   "outputs": [],
   "source": [
    "# Accessing the html content from webpage\n",
    "url = \"http://agebb.missouri.edu/weather/realtime/st_louis_science_center.php\"\n",
    "\n",
    "results = requests.get(url)\n",
    "rdata = results.content\n",
    "soup = BeautifulSoup(rdata, 'html5lib')\n",
    "timestamp = datetime.datetime.now().isoformat()"
   ]
  },
  {
   "cell_type": "code",
   "execution_count": 4,
   "metadata": {},
   "outputs": [],
   "source": [
    "# Accessing content in tags\n",
    "# Desired feature group is in a collapsible div with'id':'current-collapsible'\n",
    "# features class on webpage is \"ui-body\" while value class is \"ui-bar\"\n",
    "\n",
    "table = soup.find('div', {'id':'current-collapsible'})  # accessing the collapsible section\n",
    "\n",
    "data_file = []\n",
    "# looping through the first 3 features (Temperature, dewpoint and humidity) in the table\n",
    "for r in table.findAll('div', attrs = {'class':\"ui-grid-a\"})[:3]:\n",
    "    stldata = {}\n",
    "    stldata['feature'] = r.find('div', {'class':\"ui-body\"}).string\n",
    "    stldata['value'] = r.find('div', {'class':\"ui-bar\"}).string\n",
    "    data_file.append(stldata)\n",
    "\n",
    "#\n",
    "# payload will be of the form  \n",
    "# {\n",
    "#     \"temp\": 22.1,\n",
    "#     \"rh\": 55,\n",
    "#     \"timestamp\": \"YYYY-MM-DDTHH:MM:SSZ\"\n",
    "# }    \n",
    "#\n",
    "\n",
    "payload = {}\n",
    "for data in data_file:\n",
    "    if data['feature'][:4] == 'Temp':\n",
    "        payload['temp'] = data['value'].replace(\"°F\", \"\")\n",
    "    if data['feature'][:4] == 'Humi':\n",
    "        payload['rh'] = data['value'].replace(\"%\", \"\")\n",
    "    payload['timestamp'] = timestamp\n",
    "    payload['stid'] = \"stl-science-center\"\n"
   ]
  },
  {
   "cell_type": "markdown",
   "metadata": {},
   "source": [
    "Show the payload"
   ]
  },
  {
   "cell_type": "code",
   "execution_count": 5,
   "metadata": {},
   "outputs": [
    {
     "data": {
      "text/plain": [
       "{'temp': '73.7',\n",
       " 'timestamp': '2021-11-08T12:40:54.312107',\n",
       " 'stid': 'stl-science-center',\n",
       " 'rh': '26'}"
      ]
     },
     "execution_count": 5,
     "metadata": {},
     "output_type": "execute_result"
    }
   ],
   "source": [
    "payload"
   ]
  },
  {
   "cell_type": "markdown",
   "metadata": {},
   "source": [
    "Put the payload on the blockchain"
   ]
  },
  {
   "cell_type": "code",
   "execution_count": 6,
   "metadata": {},
   "outputs": [
    {
     "name": "stdout",
     "output_type": "stream",
     "text": [
      "{'status': 'ok', 'message': 'block added', 'hash': 'b2f699941fbad2c7126aa13d6631c12ce7541c5a4b4816f3911aeab0df3864e8'}\n"
     ]
    }
   ],
   "source": [
    "block_chain_server = \"34.69.195.189:5000\"\n",
    "r = requests.post(f\"http://{block_chain_server}/add\", data=payload)\n",
    "if r.status_code == 200:\n",
    "    resp = r.json()\n",
    "    print(resp)\n",
    "else:\n",
    "    print(f\"[info] unable to communicate with server or add data block : {r.status_code}\")"
   ]
  },
  {
   "cell_type": "markdown",
   "metadata": {},
   "source": [
    "Test the hash data block:"
   ]
  },
  {
   "cell_type": "code",
   "execution_count": 7,
   "metadata": {},
   "outputs": [
    {
     "name": "stdout",
     "output_type": "stream",
     "text": [
      "b'Block<hash: b2f699941fbad2c7126aa13d6631c12ce7541c5a4b4816f3911aeab0df3864e8, prev_hash: c93af66136bd226b5dcba8fe5af4fdbf0c4a274bc7f988ad01a431fe0f325ed4, messages: 1, time: 1636400454.3879929>'\n"
     ]
    }
   ],
   "source": [
    "r = requests.get(f\"http://34.69.195.189:5000/{resp['hash']}\", data=payload)\n",
    "if r.status_code == 200:\n",
    "    print(r.content)"
   ]
  }
 ],
 "metadata": {
  "kernelspec": {
   "display_name": "Python 3",
   "language": "python",
   "name": "python3"
  },
  "language_info": {
   "codemirror_mode": {
    "name": "ipython",
    "version": 3
   },
   "file_extension": ".py",
   "mimetype": "text/x-python",
   "name": "python",
   "nbconvert_exporter": "python",
   "pygments_lexer": "ipython3",
   "version": "3.8.11"
  }
 },
 "nbformat": 4,
 "nbformat_minor": 4
}
