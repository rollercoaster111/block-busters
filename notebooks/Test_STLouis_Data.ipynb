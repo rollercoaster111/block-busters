{
 "cells": [
  {
   "cell_type": "markdown",
   "metadata": {},
   "source": [
    "## Scraping St. Louis Weather Data"
   ]
  },
  {
   "cell_type": "markdown",
   "metadata": {},
   "source": [
    "## Problem\n",
    "\n",
    "Data exists in a variety of forms from a variety of places.  Sometimes data will need to be pulled from raw HTML to get at it.  We want to simulate an IoT device by grabbing data from the weather station at the St. Louis Science Center, which at the moment, we have no other way to get at this data."
   ]
  },
  {
   "cell_type": "markdown",
   "metadata": {},
   "source": [
    "### Solution\n",
    "\n",
    "* grab HTML at the end of the site: [http://agebb.missouri.edu/weather/realtime/st_louis_science_center.php](http://agebb.missouri.edu/weather/realtime/st_louis_science_center.php)\n",
    "* parse the data for temperature and humdity\n",
    "* store the data on the IoT block chain"
   ]
  },
  {
   "cell_type": "markdown",
   "metadata": {},
   "source": [
    "### Code"
   ]
  },
  {
   "cell_type": "code",
   "execution_count": 1,
   "metadata": {},
   "outputs": [],
   "source": [
    "# uncomment and run necessary libraries if not already installed\n",
    "# pip install html5lib\n",
    "# pip install bs4"
   ]
  },
  {
   "cell_type": "code",
   "execution_count": 2,
   "metadata": {},
   "outputs": [],
   "source": [
    "# importing necessary libraries\n",
    "\n",
    "import datetime\n",
    "import requests\n",
    "import csv\n",
    "import pandas as pd\n",
    "from bs4 import BeautifulSoup\n",
    "import json"
   ]
  },
  {
   "cell_type": "code",
   "execution_count": 3,
   "metadata": {},
   "outputs": [],
   "source": [
    "# Accessing the html content from webpage\n",
    "url = \"http://agebb.missouri.edu/weather/realtime/st_louis_science_center.php\"\n",
    "results = requests.get(url)\n",
    "rdata = results.content\n",
    "soup = BeautifulSoup(rdata, 'html5lib')\n",
    "timestamp = datetime.datetime.now().isoformat()"
   ]
  },
  {
   "cell_type": "code",
   "execution_count": 4,
   "metadata": {},
   "outputs": [],
   "source": [
    "# Accessing content in tags\n",
    "# Desired feature group is in a collapsible div with'id':'current-collapsible'\n",
    "# features class on webpage is \"ui-body\" while value class is \"ui-bar\"\n",
    "\n",
    "table = soup.find('div', {'id':'current-collapsible'})  # accessing the collapsible section\n",
    "\n",
    "data_file = []\n",
    "# looping through the first 3 features (Temperature, dewpoint and humidity) in the table\n",
    "for r in table.findAll('div', attrs = {'class':\"ui-grid-a\"})[:3]:\n",
    "    stldata = {}\n",
    "    stldata['feature'] = r.find('div', {'class':\"ui-body\"}).string\n",
    "    stldata['value'] = r.find('div', {'class':\"ui-bar\"}).string\n",
    "    data_file.append(stldata)\n",
    "\n",
    "#\n",
    "# payload will be of the form  \n",
    "# {\n",
    "#     \"temp\": 22.1,\n",
    "#     \"rh\": 55,\n",
    "#     \"timestamp\": \"YYYY-MM-DDTHH:MM:SSZ\"\n",
    "# }    \n",
    "#\n",
    "\n",
    "payload = {}\n",
    "for data in data_file:\n",
    "    if data['feature'][:4] == 'Temp':\n",
    "        payload['temp'] = data['value'].replace(\"°F\", \"\")\n",
    "    if data['feature'][:4] == 'Humi':\n",
    "        payload['rh'] = data['value'].replace(\"%\", \"\")\n",
    "    payload['timestamp'] = timestamp\n",
    "    payload['stid'] = \"stl-science-center\"\n"
   ]
  },
  {
   "cell_type": "markdown",
   "metadata": {},
   "source": [
    "Show the payload"
   ]
  },
  {
   "cell_type": "code",
   "execution_count": 5,
   "metadata": {},
   "outputs": [
    {
     "data": {
      "text/plain": [
       "{'temp': '75.6',\n",
       " 'timestamp': '2021-11-08T13:49:03.214607',\n",
       " 'stid': 'stl-science-center',\n",
       " 'rh': '20'}"
      ]
     },
     "execution_count": 5,
     "metadata": {},
     "output_type": "execute_result"
    }
   ],
   "source": [
    "payload"
   ]
  },
  {
   "cell_type": "markdown",
   "metadata": {},
   "source": [
    "Put the payload on the blockchain"
   ]
  },
  {
   "cell_type": "code",
   "execution_count": 13,
   "metadata": {},
   "outputs": [
    {
     "name": "stdout",
     "output_type": "stream",
     "text": [
      "{'status': 'ok', 'message': 'block added', 'hash': '2200d91965e2f4e1d9bef9e07a6389b077885d5bb803ca17ced6a31fe1e02bfb'}\n"
     ]
    }
   ],
   "source": [
    "block_chain_server = \"34.69.195.189:5000\"\n",
    "block_chain_server = \"localhost:5000\"\n",
    "\n",
    "headers = {\n",
    "    'Content-type': 'application/json'\n",
    "}\n",
    "\n",
    "r = requests.post(f\"http://{block_chain_server}/add\", data=json.dumps(payload), headers=headers)\n",
    "if r.status_code == 200:\n",
    "    resp = r.json()\n",
    "    print(resp)\n",
    "else:\n",
    "    print(f\"[info] unable to communicate with server or add data block : {r.status_code}\")"
   ]
  },
  {
   "cell_type": "markdown",
   "metadata": {},
   "source": [
    "Test the hash data block:"
   ]
  },
  {
   "cell_type": "code",
   "execution_count": 14,
   "metadata": {},
   "outputs": [
    {
     "name": "stdout",
     "output_type": "stream",
     "text": [
      "['2200d91965e2f4e1d9bef9e07a6389b077885d5bb803ca17ced6a31fe1e02bfb', 'c77e295f89a00d07408dbffc8022a964e3ad398e96ba8bff1f9c65c60b2fd86d', ['{\"temp\": \"75.6\", \"timestamp\": \"2021-11-08T13:49:03.214607\", \"stid\": \"stl-science-center\", \"rh\": \"20\"}'], '1636404746.2501485']\n"
     ]
    }
   ],
   "source": [
    "r = requests.get(f\"http://{block_chain_server}/{resp['hash']}\", data=payload, headers=headers)\n",
    "if r.status_code == 200:\n",
    "    print(r.json())"
   ]
  },
  {
   "cell_type": "code",
   "execution_count": 16,
   "metadata": {},
   "outputs": [
    {
     "name": "stdout",
     "output_type": "stream",
     "text": [
      "['3b48f1341e4c582ba9791f80a29d4078dedd303c559138e0218825635d9ee1ff']\n"
     ]
    }
   ],
   "source": [
    "r = requests.get(f\"http://{block_chain_server}/chain\", data=json.dumps(payload), headers=headers)\n",
    "if r.status_code == 200:\n",
    "    print(r.json())"
   ]
  },
  {
   "cell_type": "code",
   "execution_count": null,
   "metadata": {},
   "outputs": [],
   "source": []
  }
 ],
 "metadata": {
  "kernelspec": {
   "display_name": "Python 3",
   "language": "python",
   "name": "python3"
  },
  "language_info": {
   "codemirror_mode": {
    "name": "ipython",
    "version": 3
   },
   "file_extension": ".py",
   "mimetype": "text/x-python",
   "name": "python",
   "nbconvert_exporter": "python",
   "pygments_lexer": "ipython3",
   "version": "3.8.11"
  }
 },
 "nbformat": 4,
 "nbformat_minor": 4
}
