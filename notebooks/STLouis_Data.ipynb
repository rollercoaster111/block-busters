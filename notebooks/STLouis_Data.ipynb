{
 "cells": [
  {
   "cell_type": "markdown",
   "metadata": {},
   "source": [
    "## Scrapping St. Loius Weather Data\n",
    "Site: http://agebb.missouri.edu/weather/realtime/st_louis_science_center.php"
   ]
  },
  {
   "cell_type": "code",
   "execution_count": 1,
   "metadata": {},
   "outputs": [],
   "source": [
    "# uncomment and run necessary libraries if not already installed\n",
    "# pip install html5lib"
   ]
  },
  {
   "cell_type": "code",
   "execution_count": 2,
   "metadata": {},
   "outputs": [],
   "source": [
    "# pip install bs4"
   ]
  },
  {
   "cell_type": "code",
   "execution_count": 3,
   "metadata": {},
   "outputs": [],
   "source": [
    "# importing necessary libraries\n",
    "import requests\n",
    "import csv\n",
    "import pandas as pd\n",
    "from bs4 import BeautifulSoup"
   ]
  },
  {
   "cell_type": "code",
   "execution_count": 4,
   "metadata": {},
   "outputs": [],
   "source": [
    "# Accessing the html content from webpage\n",
    "url = \"http://agebb.missouri.edu/weather/realtime/st_louis_science_center.php\"\n",
    "results = requests.get(url)\n",
    "rdata = results.content\n",
    "soup = BeautifulSoup(rdata, 'html5lib')"
   ]
  },
  {
   "cell_type": "code",
   "execution_count": 5,
   "metadata": {},
   "outputs": [],
   "source": [
    "# Accessing content in tags\n",
    "# Desired feature group is in a collapsible div with'id':'current-collapsible'\n",
    "# features class on webpage is \"ui-body\" while value class is \"ui-bar\"\n",
    "\n",
    "table = soup.find('div', {'id':'current-collapsible'})  # accessing the collapsible section\n",
    "\n",
    "data_file = []\n",
    "# looping through the first 3 features (Temperature, dewpoint and humidity) in the table\n",
    "for r in table.findAll('div', attrs = {'class':\"ui-grid-a\"})[:3]:\n",
    "    stldata = {}\n",
    "    stldata['feature'] = r.find('div', {'class':\"ui-body\"}).string\n",
    "    stldata['value'] = r.find('div', {'class':\"ui-bar\"}).string\n",
    "    data_file.append(stldata)\n",
    "\n",
    "filename = 'stl_data.csv'  # Saving data into a csv file, we can easily convert to .json\n",
    "with open(filename, 'w', newline='') as f:\n",
    "    w = csv.DictWriter(f, ['feature', 'value'])\n",
    "    w.writeheader()\n",
    "    for data in data_file:\n",
    "        w.writerow(data)"
   ]
  },
  {
   "cell_type": "code",
   "execution_count": 6,
   "metadata": {},
   "outputs": [],
   "source": [
    "# Test Codes\n",
    "\n",
    "# data_file = []\n",
    "# for r in table.findAll('div', attrs = {'class':\"ui-grid-a\"})[:3]:\n",
    "#     stldata = {}\n",
    "#     stldata['feature'] = r.find('div', {'class':\"ui-body\"}).string\n",
    "#     stldata['value'] = r.find('div', {'class':\"ui-bar\"}).string\n",
    "#     data_file.append(stldata)\n"
   ]
  },
  {
   "cell_type": "code",
   "execution_count": 7,
   "metadata": {},
   "outputs": [],
   "source": [
    "# Test Codes\n",
    "\n",
    "# filename = 'stldata.csv'\n",
    "# with open(filename, 'w', newline='') as f:\n",
    "#     w = csv.DictWriter(f, ['feature', 'value'])\n",
    "#     w.writeheader()\n",
    "#     for data in data_file:\n",
    "#         w.writerow(data)"
   ]
  }
 ],
 "metadata": {
  "kernelspec": {
   "display_name": "Python 3",
   "language": "python",
   "name": "python3"
  },
  "language_info": {
   "codemirror_mode": {
    "name": "ipython",
    "version": 3
   },
   "file_extension": ".py",
   "mimetype": "text/x-python",
   "name": "python",
   "nbconvert_exporter": "python",
   "pygments_lexer": "ipython3",
   "version": "3.8.5"
  }
 },
 "nbformat": 4,
 "nbformat_minor": 4
}
