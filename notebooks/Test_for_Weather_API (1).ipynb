{
  "nbformat": 4,
  "nbformat_minor": 0,
  "metadata": {
    "colab": {
      "name": "Test for Weather API.ipynb",
      "provenance": [],
      "collapsed_sections": []
    },
    "kernelspec": {
      "name": "python3",
      "display_name": "Python 3"
    },
    "language_info": {
      "name": "python"
    }
  },
  "cells": [
    {
      "cell_type": "code",
      "metadata": {
        "id": "ZAI7X-YnIX3F"
      },
      "source": [
        "import requests"
      ],
      "execution_count": 2,
      "outputs": []
    },
    {
      "cell_type": "code",
      "metadata": {
        "id": "BoNXsQ5NIeZL"
      },
      "source": [
        "r = requests.get(\"https://api.synopticdata.com/v2/stations/latest?radius=KHOU,100&limit=25&vars=air_temp,relative_humidity&within=100&token=41035fa7e66445adba71495a94352009\")\n",
        "\n",
        "if r.status_code == 200:\n",
        "  data = r.json()"
      ],
      "execution_count": 3,
      "outputs": []
    },
    {
      "cell_type": "code",
      "metadata": {
        "id": "Os2PISwqLw4D",
        "colab": {
          "base_uri": "https://localhost:8080/"
        },
        "outputId": "01a9713f-5aaf-4426-bad4-3428363792cc"
      },
      "source": [
        "for s in data['STATION']:\n",
        "  block = {}\n",
        "  block[\"stid\"] = s['STID']\n",
        "  block['coord'] = s['LONGITUDE'] + ' W', s['LATITUDE'] + ' N'\n",
        "  block[\"elevation\"] = s['ELEVATION']\n",
        "  block['temp'] = int(s['OBSERVATIONS']['air_temp_value_1']['value'] *(9/5) + 32)\n",
        "  block['timestamp'] = s['OBSERVATIONS']['air_temp_value_1']['date_time']\n",
        "  try:\n",
        "    block['hum'] = str(s['OBSERVATIONS']['relative_humidity_value_1']['value']) + \"%\"\n",
        "  except:\n",
        "    block['hum'] = -1\n",
        "  print(block)"
      ],
      "execution_count": 27,
      "outputs": [
        {
          "output_type": "stream",
          "name": "stdout",
          "text": [
            "{'stid': 'KHOU', 'coord': ('-95.28250 W', '29.63750 N'), 'elevation': '46', 'temp': 66, 'timestamp': '2021-11-07T16:10:00Z', 'hum': '59.79%'}\n",
            "{'stid': 'AN528', 'coord': ('-95.29472 W', '29.68639 N'), 'elevation': '49', 'temp': 56, 'timestamp': '2021-11-07T15:00:00Z', 'hum': '92.3%'}\n",
            "{'stid': 'AN542', 'coord': ('-95.25330 W', '29.68420 N'), 'elevation': '39', 'temp': 57, 'timestamp': '2021-11-07T15:00:00Z', 'hum': -1}\n",
            "{'stid': 'AN525', 'coord': ('-95.26060 W', '29.70640 N'), 'elevation': '26', 'temp': 57, 'timestamp': '2021-11-07T15:00:00Z', 'hum': -1}\n",
            "{'stid': 'E0731', 'coord': ('-95.22856 W', '29.58183 N'), 'elevation': '33', 'temp': 68, 'timestamp': '2021-11-07T16:01:00Z', 'hum': '68.0%'}\n",
            "{'stid': 'AN527', 'coord': ('-95.25991 W', '29.71880 N'), 'elevation': '39', 'temp': 59, 'timestamp': '2021-11-07T15:00:00Z', 'hum': -1}\n",
            "{'stid': 'AN537', 'coord': ('-95.25750 W', '29.73390 N'), 'elevation': '39', 'temp': 54, 'timestamp': '2021-11-07T15:00:00Z', 'hum': '88.2%'}\n",
            "{'stid': 'AN518', 'coord': ('-95.23817 W', '29.73428 N'), 'elevation': '39', 'temp': 55, 'timestamp': '2021-11-07T15:00:00Z', 'hum': -1}\n",
            "{'stid': 'KEFD', 'coord': ('-95.16667 W', '29.6 N'), 'elevation': '33', 'temp': 62, 'timestamp': '2021-11-07T15:50:00Z', 'hum': '67.79%'}\n",
            "{'stid': 'UR091', 'coord': ('-95.29306 W', '29.75309 N'), 'elevation': '38', 'temp': 60, 'timestamp': '2021-11-07T15:23:00Z', 'hum': -1}\n",
            "{'stid': 'KLVJ', 'coord': ('-95.24194 W', '29.52111 N'), 'elevation': '43', 'temp': 64, 'timestamp': '2021-11-07T16:10:00Z', 'hum': '67.99%'}\n",
            "{'stid': 'KMCJ', 'coord': ('-95.39500 W', '29.71400 N'), 'elevation': '226', 'temp': 62, 'timestamp': '2021-11-07T16:15:00Z', 'hum': '67.79%'}\n",
            "{'stid': 'E7643', 'coord': ('-95.18200 W', '29.54533 N'), 'elevation': '32', 'temp': 62, 'timestamp': '2021-11-07T16:01:00Z', 'hum': '80.0%'}\n",
            "{'stid': 'F1563', 'coord': ('-95.13443 W', '29.64438 N'), 'elevation': '32', 'temp': 64, 'timestamp': '2021-11-07T16:11:00Z', 'hum': '74.0%'}\n",
            "{'stid': 'E7304', 'coord': ('-95.14700 W', '29.57500 N'), 'elevation': '10', 'temp': 62, 'timestamp': '2021-11-07T16:00:00Z', 'hum': '74.0%'}\n",
            "{'stid': 'C6132', 'coord': ('-95.38717 W', '29.73617 N'), 'elevation': '50', 'temp': 66, 'timestamp': '2021-11-07T16:11:00Z', 'hum': '74.0%'}\n",
            "{'stid': 'AN538', 'coord': ('-95.12851 W', '29.67003 N'), 'elevation': '36', 'temp': 57, 'timestamp': '2021-11-07T15:00:00Z', 'hum': '87.0%'}\n",
            "{'stid': 'F2972', 'coord': ('-95.13600 W', '29.69100 N'), 'elevation': '39', 'temp': 64, 'timestamp': '2021-11-07T16:08:00Z', 'hum': '64.0%'}\n",
            "{'stid': 'D5612', 'coord': ('-95.39233 W', '29.74083 N'), 'elevation': '50', 'temp': 64, 'timestamp': '2021-11-07T16:08:00Z', 'hum': '58.0%'}\n",
            "{'stid': 'AN536', 'coord': ('-95.22060 W', '29.76810 N'), 'elevation': '36', 'temp': 55, 'timestamp': '2021-11-07T15:00:00Z', 'hum': -1}\n",
            "{'stid': 'F3981', 'coord': ('-95.38083 W', '29.52117 N'), 'elevation': '75', 'temp': 64, 'timestamp': '2021-11-07T16:10:00Z', 'hum': '55.0%'}\n",
            "{'stid': 'D9845', 'coord': ('-95.42041 W', '29.55389 N'), 'elevation': '66', 'temp': 66, 'timestamp': '2021-11-07T16:12:00Z', 'hum': '73.0%'}\n",
            "{'stid': 'AN468', 'coord': ('-95.39250 W', '29.52030 N'), 'elevation': '69', 'temp': 54, 'timestamp': '2021-11-07T15:00:00Z', 'hum': -1}\n",
            "{'stid': 'F2265', 'coord': ('-95.12000 W', '29.58333 N'), 'elevation': '36', 'temp': 62, 'timestamp': '2021-11-07T16:11:00Z', 'hum': '73.0%'}\n",
            "{'stid': 'UR113', 'coord': ('-95.12177 W', '29.71084 N'), 'elevation': '30', 'temp': 59, 'timestamp': '2021-11-07T15:52:00Z', 'hum': -1}\n"
          ]
        }
      ]
    }
  ]
}