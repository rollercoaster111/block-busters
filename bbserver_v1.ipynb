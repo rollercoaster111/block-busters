{
  "nbformat": 4,
  "nbformat_minor": 0,
  "metadata": {
    "colab": {
      "name": "bbserver_v1.ipynb",
      "provenance": []
    },
    "kernelspec": {
      "name": "python3",
      "display_name": "Python 3"
    },
    "language_info": {
      "name": "python"
    }
  },
  "cells": [
    {
      "cell_type": "code",
      "metadata": {
        "id": "XGj6j7vhwuVJ"
      },
      "source": [
        "from flask import Flask\n",
        "from flask import request, jsonify\n",
        "import json\n",
        "import datetime\n",
        "import hashlib\n",
        "import time\n",
        "#from pysimplechain import Block, SimpleChain, Message"
      ],
      "execution_count": 1,
      "outputs": []
    },
    {
      "cell_type": "code",
      "metadata": {
        "id": "zyijsdvCxce3"
      },
      "source": [
        "class Message:\n",
        "\tdef __init__(self, data):\n",
        "\t\tself.hash = None\n",
        "\t\tself.prev_hash = None\n",
        "\t\tself.timestamp = time.time()\n",
        "\t\tself.size = len(data.encode('utf-8'))   # length in bytes\n",
        "\t\tself.data = data\n",
        "\t\tself.payload_hash = self._hash_payload()\n",
        "\n",
        "\tdef _hash_payload(self):\n",
        "\t\treturn hashlib.sha256(bytearray(str(self.timestamp) + str(self.data), \"utf-8\")).hexdigest()\n",
        "\n",
        "\tdef _hash_message(self):\n",
        "\t\treturn hashlib.sha256(bytearray(str(self.prev_hash) + self.payload_hash, \"utf-8\")).hexdigest()\n",
        "\n",
        "\tdef link(self, message):\n",
        "\t\t\"\"\" Link the message to the previous one via hashes.\"\"\"\n",
        "\t\tself.prev_hash = message.hash\n",
        "\n",
        "\tdef seal(self):\n",
        "\t\t\"\"\" Get the message hash. \"\"\"\n",
        "\t\tself.hash = self._hash_message()\n",
        "\n",
        "\tdef validate(self):\n",
        "\t\t\"\"\" Check whether the message is valid or not. \"\"\"\n",
        "\t\tif self.payload_hash != self._hash_payload():\n",
        "\t\t\traise InvalidMessage(\"Invalid payload hash in message: \" + str(self))\n",
        "\t\tif self.hash != self._hash_message():\n",
        "\t\t\traise InvalidMessage(\"Invalid message hash in message: \" + str(self))\n",
        "\n",
        "\tdef __repr__(self):\n",
        "\t\treturn 'Message<hash: {}, prev_hash: {}, data: {}>'.format(\n",
        "\t\t\tself.hash, self.prev_hash, self.data[:20]\n",
        "\t\t)\n",
        "\n",
        "\n",
        "class Block:\n",
        "\tdef __init__(self, *args):\n",
        "\t\tself.messages = []\n",
        "\t\tself.timestamp = None\n",
        "\t\tself.prev_hash = None\n",
        "\t\tself.hash = None\n",
        "\t\tif args:\n",
        "\t\t\tfor arg in args:\n",
        "\t\t\t\tself.add_message(arg)\n",
        "\n",
        "\tdef _hash_block(self):\n",
        "\t\treturn hashlib.sha256(bytearray(str(self.prev_hash) + str(self.timestamp) + self.messages[-1].hash, \"utf-8\")).hexdigest()\n",
        "\n",
        "\tdef add_message(self, message):\n",
        "\t\tif len(self.messages) > 0:\n",
        "\t\t\tmessage.link(self.messages[-1])\n",
        "\t\tmessage.seal()\n",
        "\t\tmessage.validate()\n",
        "\t\tself.messages.append(message)\n",
        " \n",
        "\tdef link(self, block):\n",
        "\t\t\"\"\" The block hash only incorporates the head message hash\n",
        "\t\t\twhich then transitively includes all prior hashes.\n",
        "\t\t\"\"\"\n",
        "\t\tself.prev_hash = block.hash\n",
        "        \n",
        "\tdef seal(self):\n",
        "\t\tself.timestamp = time.time()\n",
        "\t\tself.hash = self._hash_block()\n",
        "\n",
        "\tdef validate(self):\n",
        "\t\t\"\"\" Validates each message hash, then chain integrity, then the block hash.\n",
        "\t\t\tCalls each message's validate() method.\n",
        "\n",
        "\t\t\tIf a message fails validation, this method captures the exception and \n",
        "\t\t\tthrows InvalidBlock since an invalid message invalidates the whole block.\n",
        "\t\t\"\"\"\n",
        "\t\tfor i, msg in enumerate(self.messages):\n",
        "\t\t\ttry:\n",
        "\t\t\t\tmsg.validate()\n",
        "\t\t\t\tif i > 0 and msg.prev_hash != self.messages[i-1].hash:\n",
        "\t\t\t\t\traise InvalidBlock(\"Invalid block: Message #{} has invalid message link in block: {}\".format(i, str(self)))\n",
        "\t\t\texcept InvalidMessage as ex:\n",
        "\t\t\t\traise InvalidBlock(\"Invalid block: Message #{} failed validation: {}. In block: {}\".format(\n",
        "\t\t\t\t\ti, str(ex), str(self))\n",
        "\t\t\t\t)\n",
        "\n",
        "\tdef __repr__(self):\n",
        "\t\treturn 'Block<hash: {}, prev_hash: {}, messages: {}, time: {}>'.format(\n",
        "\t\t\tself.hash, self.prev_hash, len(self.messages), self.timestamp\n",
        "\t\t)\n",
        "\n",
        "class SimpleChain:\n",
        "\tdef __init__(self):\n",
        "\t\tself.chain = []\n",
        "\n",
        "\tdef add_block(self, block):\n",
        "\t\t\"\"\" Add a block if valid.\"\"\"\n",
        "\t\tif len(self.chain) > 0:\n",
        "\t\t\tblock.prev_hash = self.chain[-1].hash\n",
        "\t\tblock.seal()\n",
        "\t\tblock.validate()\n",
        "\t\tself.chain.append(block)\n",
        "\n",
        "\tdef validate(self):\n",
        "\t\t\"\"\" Validates each block, in order.\n",
        "\t\t\tAn invalid block invalidates the chain.\n",
        "\t\t\"\"\"\n",
        "\t\tfor i, block in enumerate(self.chain):\n",
        "\t\t\ttry:\n",
        "\t\t\t\tblock.validate()\n",
        "\t\t\texcept InvalidBlock as exc:\n",
        "\t\t\t\traise InvalidBlockchain(\"Invalid blockchain at block number {} caused by: {}\".format(i, str(exc)))\n",
        "\t\treturn True\n",
        "\n",
        "\tdef __repr__(self):\n",
        "\t\treturn 'SimpleChain<blocks: {}>'.format(len(self.chain))\n"
      ],
      "execution_count": 2,
      "outputs": []
    },
    {
      "cell_type": "code",
      "metadata": {
        "id": "xEItLJJ6xnRT"
      },
      "source": [
        "app = Flask(__name__)"
      ],
      "execution_count": 3,
      "outputs": []
    },
    {
      "cell_type": "code",
      "metadata": {
        "id": "HVjOOONpxqo8"
      },
      "source": [
        "@app.route('/')\n",
        "def info():\n",
        "    return \\\n",
        "        json.dumps({\n",
        "            'server': 'bbserver',\n",
        "            'version': 0.1,\n",
        "            'description': 'block-buster blockchain server'\n",
        "        })\n"
      ],
      "execution_count": 4,
      "outputs": []
    },
    {
      "cell_type": "code",
      "metadata": {
        "id": "9eFqK21Rxrr0"
      },
      "source": [
        "@app.route('/add', methods=['POST'])\n",
        "def add_block():\n",
        "    post_data = request.get_json()\n",
        "\n",
        "    block = Block()\n",
        "    block.add_message(Message(\n",
        "        json.dumps(\n",
        "            post_data\n",
        "        )\n",
        "    ))\n",
        "    chain.add_block((block))\n",
        "\n",
        "    return \\\n",
        "            json.dumps({\n",
        "                'status': 'ok',\n",
        "                'message': 'block added',\n",
        "                'hash': block.hash\n",
        "            })"
      ],
      "execution_count": 5,
      "outputs": []
    },
    {
      "cell_type": "code",
      "metadata": {
        "id": "orFPaLBQxv0E"
      },
      "source": [
        "@app.route('/chain')\n",
        "def show_chain():\n",
        "    return \\\n",
        "        jsonify([b.__repr__() for b in chain.chain]) # chain.__repr__())\n"
      ],
      "execution_count": 6,
      "outputs": []
    },
    {
      "cell_type": "code",
      "metadata": {
        "id": "j3yBnpRDx0Sd"
      },
      "source": [
        "@app.route('/<block_hash>')\n",
        "def show_block(block_hash):\n",
        "    return \\\n",
        "        chain.get_block(block_hash).__repr__()\n"
      ],
      "execution_count": 7,
      "outputs": []
    },
    {
      "cell_type": "code",
      "metadata": {
        "colab": {
          "base_uri": "https://localhost:8080/"
        },
        "id": "Q9XV31k2x1Ls",
        "outputId": "543cd9de-3782-4047-c272-296a15fbc13d"
      },
      "source": [
        "if __name__ == '__main__':\n",
        "    chain = SimpleChain()\n",
        "    chain_map = {}\n",
        "\n",
        "    app.run()"
      ],
      "execution_count": 8,
      "outputs": [
        {
          "output_type": "stream",
          "name": "stdout",
          "text": [
            " * Serving Flask app \"__main__\" (lazy loading)\n",
            " * Environment: production\n",
            "\u001b[31m   WARNING: This is a development server. Do not use it in a production deployment.\u001b[0m\n",
            "\u001b[2m   Use a production WSGI server instead.\u001b[0m\n",
            " * Debug mode: off\n"
          ]
        },
        {
          "output_type": "stream",
          "name": "stderr",
          "text": [
            " * Running on http://127.0.0.1:5000/ (Press CTRL+C to quit)\n"
          ]
        }
      ]
    },
    {
      "cell_type": "code",
      "metadata": {
        "colab": {
          "base_uri": "https://localhost:8080/",
          "height": 205
        },
        "id": "N57Mjkx8AtlZ",
        "outputId": "d8ea8680-a31b-4cf6-db03-66205acbf1c8"
      },
      "source": [
        "#http://34.69.195.189:5000/\n",
        "\n",
        "client.println(\"/ HTTP/34.69.195.189:5000\")"
      ],
      "execution_count": 10,
      "outputs": [
        {
          "output_type": "error",
          "ename": "NameError",
          "evalue": "ignored",
          "traceback": [
            "\u001b[0;31m---------------------------------------------------------------------------\u001b[0m",
            "\u001b[0;31mNameError\u001b[0m                                 Traceback (most recent call last)",
            "\u001b[0;32m<ipython-input-10-e1976a90516a>\u001b[0m in \u001b[0;36m<module>\u001b[0;34m()\u001b[0m\n\u001b[1;32m      1\u001b[0m \u001b[0;31m#http://34.69.195.189:5000/\u001b[0m\u001b[0;34m\u001b[0m\u001b[0;34m\u001b[0m\u001b[0;34m\u001b[0m\u001b[0m\n\u001b[1;32m      2\u001b[0m \u001b[0;34m\u001b[0m\u001b[0m\n\u001b[0;32m----> 3\u001b[0;31m \u001b[0mclient\u001b[0m\u001b[0;34m.\u001b[0m\u001b[0mprintln\u001b[0m\u001b[0;34m(\u001b[0m\u001b[0;34m\"/ HTTP/34.69.195.189:5000\"\u001b[0m\u001b[0;34m)\u001b[0m\u001b[0;34m\u001b[0m\u001b[0;34m\u001b[0m\u001b[0m\n\u001b[0m",
            "\u001b[0;31mNameError\u001b[0m: name 'client' is not defined"
          ]
        }
      ]
    }
  ]
}